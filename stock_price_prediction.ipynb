{
 "cells": [
  {
   "cell_type": "code",
   "execution_count": 6,
   "metadata": {},
   "outputs": [],
   "source": [
    "# Description: This program uses an artificial recurrent neural network called Long Short Term Memory(LSTM)\n",
    "#              to predict the closing stock price of a corporation (Apple Inc.) using the past 60 day stock price.\n",
    "\n",
    "import math\n",
    "import pandas_datareader as web\n",
    "import numpy as np\n",
    "import pandas as pd\n",
    "from sklearn.preprocessing import MinMaxScaler\n",
    "from keras.layers import Dense, LSTM\n",
    "from keras.models import Sequential\n",
    "import matplotlib.pyplot as plt\n",
    "plt.style.use('fivethirtyeight')"
   ]
  },
  {
   "cell_type": "code",
   "execution_count": 19,
   "metadata": {},
   "outputs": [
    {
     "name": "stdout",
     "output_type": "stream",
     "text": [
      "env: QUANDL_API_KEY=dpC9ceaCW6qw9RwVzASC\n"
     ]
    },
    {
     "data": {
      "text/html": [
       "<div>\n",
       "<style scoped>\n",
       "    .dataframe tbody tr th:only-of-type {\n",
       "        vertical-align: middle;\n",
       "    }\n",
       "\n",
       "    .dataframe tbody tr th {\n",
       "        vertical-align: top;\n",
       "    }\n",
       "\n",
       "    .dataframe thead th {\n",
       "        text-align: right;\n",
       "    }\n",
       "</style>\n",
       "<table border=\"1\" class=\"dataframe\">\n",
       "  <thead>\n",
       "    <tr style=\"text-align: right;\">\n",
       "      <th></th>\n",
       "      <th>Open</th>\n",
       "      <th>High</th>\n",
       "      <th>Low</th>\n",
       "      <th>Close</th>\n",
       "      <th>Volume</th>\n",
       "      <th>ExDividend</th>\n",
       "      <th>SplitRatio</th>\n",
       "      <th>AdjOpen</th>\n",
       "      <th>AdjHigh</th>\n",
       "      <th>AdjLow</th>\n",
       "      <th>AdjClose</th>\n",
       "      <th>AdjVolume</th>\n",
       "    </tr>\n",
       "    <tr>\n",
       "      <th>Date</th>\n",
       "      <th></th>\n",
       "      <th></th>\n",
       "      <th></th>\n",
       "      <th></th>\n",
       "      <th></th>\n",
       "      <th></th>\n",
       "      <th></th>\n",
       "      <th></th>\n",
       "      <th></th>\n",
       "      <th></th>\n",
       "      <th></th>\n",
       "      <th></th>\n",
       "    </tr>\n",
       "  </thead>\n",
       "  <tbody>\n",
       "    <tr>\n",
       "      <th>2017-12-29</th>\n",
       "      <td>170.5200</td>\n",
       "      <td>170.590</td>\n",
       "      <td>169.220</td>\n",
       "      <td>169.23</td>\n",
       "      <td>25643711.0</td>\n",
       "      <td>0.0</td>\n",
       "      <td>1.0</td>\n",
       "      <td>170.520000</td>\n",
       "      <td>170.590000</td>\n",
       "      <td>169.220000</td>\n",
       "      <td>169.230000</td>\n",
       "      <td>25643711.0</td>\n",
       "    </tr>\n",
       "    <tr>\n",
       "      <th>2017-12-28</th>\n",
       "      <td>171.0000</td>\n",
       "      <td>171.850</td>\n",
       "      <td>170.480</td>\n",
       "      <td>171.08</td>\n",
       "      <td>15997739.0</td>\n",
       "      <td>0.0</td>\n",
       "      <td>1.0</td>\n",
       "      <td>171.000000</td>\n",
       "      <td>171.850000</td>\n",
       "      <td>170.480000</td>\n",
       "      <td>171.080000</td>\n",
       "      <td>15997739.0</td>\n",
       "    </tr>\n",
       "    <tr>\n",
       "      <th>2017-12-27</th>\n",
       "      <td>170.1000</td>\n",
       "      <td>170.780</td>\n",
       "      <td>169.710</td>\n",
       "      <td>170.60</td>\n",
       "      <td>21672062.0</td>\n",
       "      <td>0.0</td>\n",
       "      <td>1.0</td>\n",
       "      <td>170.100000</td>\n",
       "      <td>170.780000</td>\n",
       "      <td>169.710000</td>\n",
       "      <td>170.600000</td>\n",
       "      <td>21672062.0</td>\n",
       "    </tr>\n",
       "    <tr>\n",
       "      <th>2017-12-26</th>\n",
       "      <td>170.8000</td>\n",
       "      <td>171.470</td>\n",
       "      <td>169.679</td>\n",
       "      <td>170.57</td>\n",
       "      <td>32968167.0</td>\n",
       "      <td>0.0</td>\n",
       "      <td>1.0</td>\n",
       "      <td>170.800000</td>\n",
       "      <td>171.470000</td>\n",
       "      <td>169.679000</td>\n",
       "      <td>170.570000</td>\n",
       "      <td>32968167.0</td>\n",
       "    </tr>\n",
       "    <tr>\n",
       "      <th>2017-12-22</th>\n",
       "      <td>174.6800</td>\n",
       "      <td>175.424</td>\n",
       "      <td>174.500</td>\n",
       "      <td>175.01</td>\n",
       "      <td>16052615.0</td>\n",
       "      <td>0.0</td>\n",
       "      <td>1.0</td>\n",
       "      <td>174.680000</td>\n",
       "      <td>175.424000</td>\n",
       "      <td>174.500000</td>\n",
       "      <td>175.010000</td>\n",
       "      <td>16052615.0</td>\n",
       "    </tr>\n",
       "    <tr>\n",
       "      <th>...</th>\n",
       "      <td>...</td>\n",
       "      <td>...</td>\n",
       "      <td>...</td>\n",
       "      <td>...</td>\n",
       "      <td>...</td>\n",
       "      <td>...</td>\n",
       "      <td>...</td>\n",
       "      <td>...</td>\n",
       "      <td>...</td>\n",
       "      <td>...</td>\n",
       "      <td>...</td>\n",
       "      <td>...</td>\n",
       "    </tr>\n",
       "    <tr>\n",
       "      <th>2012-01-09</th>\n",
       "      <td>425.5001</td>\n",
       "      <td>427.750</td>\n",
       "      <td>421.350</td>\n",
       "      <td>421.73</td>\n",
       "      <td>14072300.0</td>\n",
       "      <td>0.0</td>\n",
       "      <td>1.0</td>\n",
       "      <td>54.682693</td>\n",
       "      <td>54.971837</td>\n",
       "      <td>54.149348</td>\n",
       "      <td>54.198183</td>\n",
       "      <td>98506100.0</td>\n",
       "    </tr>\n",
       "    <tr>\n",
       "      <th>2012-01-06</th>\n",
       "      <td>419.7700</td>\n",
       "      <td>422.750</td>\n",
       "      <td>419.220</td>\n",
       "      <td>422.40</td>\n",
       "      <td>11367600.0</td>\n",
       "      <td>0.0</td>\n",
       "      <td>1.0</td>\n",
       "      <td>53.946296</td>\n",
       "      <td>54.329267</td>\n",
       "      <td>53.875613</td>\n",
       "      <td>54.284287</td>\n",
       "      <td>79573200.0</td>\n",
       "    </tr>\n",
       "    <tr>\n",
       "      <th>2012-01-05</th>\n",
       "      <td>414.9500</td>\n",
       "      <td>418.550</td>\n",
       "      <td>412.670</td>\n",
       "      <td>418.03</td>\n",
       "      <td>9688200.0</td>\n",
       "      <td>0.0</td>\n",
       "      <td>1.0</td>\n",
       "      <td>53.326858</td>\n",
       "      <td>53.789509</td>\n",
       "      <td>53.033847</td>\n",
       "      <td>53.722681</td>\n",
       "      <td>67817400.0</td>\n",
       "    </tr>\n",
       "    <tr>\n",
       "      <th>2012-01-04</th>\n",
       "      <td>410.0000</td>\n",
       "      <td>414.680</td>\n",
       "      <td>409.280</td>\n",
       "      <td>413.44</td>\n",
       "      <td>9286500.0</td>\n",
       "      <td>0.0</td>\n",
       "      <td>1.0</td>\n",
       "      <td>52.690714</td>\n",
       "      <td>53.292160</td>\n",
       "      <td>52.598184</td>\n",
       "      <td>53.132802</td>\n",
       "      <td>65005500.0</td>\n",
       "    </tr>\n",
       "    <tr>\n",
       "      <th>2012-01-03</th>\n",
       "      <td>409.4000</td>\n",
       "      <td>412.500</td>\n",
       "      <td>409.000</td>\n",
       "      <td>411.23</td>\n",
       "      <td>10793600.0</td>\n",
       "      <td>0.0</td>\n",
       "      <td>1.0</td>\n",
       "      <td>52.613606</td>\n",
       "      <td>53.011999</td>\n",
       "      <td>52.562200</td>\n",
       "      <td>52.848787</td>\n",
       "      <td>75555200.0</td>\n",
       "    </tr>\n",
       "  </tbody>\n",
       "</table>\n",
       "<p>1507 rows × 12 columns</p>\n",
       "</div>"
      ],
      "text/plain": [
       "                Open     High      Low   Close      Volume  ExDividend  \\\n",
       "Date                                                                     \n",
       "2017-12-29  170.5200  170.590  169.220  169.23  25643711.0         0.0   \n",
       "2017-12-28  171.0000  171.850  170.480  171.08  15997739.0         0.0   \n",
       "2017-12-27  170.1000  170.780  169.710  170.60  21672062.0         0.0   \n",
       "2017-12-26  170.8000  171.470  169.679  170.57  32968167.0         0.0   \n",
       "2017-12-22  174.6800  175.424  174.500  175.01  16052615.0         0.0   \n",
       "...              ...      ...      ...     ...         ...         ...   \n",
       "2012-01-09  425.5001  427.750  421.350  421.73  14072300.0         0.0   \n",
       "2012-01-06  419.7700  422.750  419.220  422.40  11367600.0         0.0   \n",
       "2012-01-05  414.9500  418.550  412.670  418.03   9688200.0         0.0   \n",
       "2012-01-04  410.0000  414.680  409.280  413.44   9286500.0         0.0   \n",
       "2012-01-03  409.4000  412.500  409.000  411.23  10793600.0         0.0   \n",
       "\n",
       "            SplitRatio     AdjOpen     AdjHigh      AdjLow    AdjClose  \\\n",
       "Date                                                                     \n",
       "2017-12-29         1.0  170.520000  170.590000  169.220000  169.230000   \n",
       "2017-12-28         1.0  171.000000  171.850000  170.480000  171.080000   \n",
       "2017-12-27         1.0  170.100000  170.780000  169.710000  170.600000   \n",
       "2017-12-26         1.0  170.800000  171.470000  169.679000  170.570000   \n",
       "2017-12-22         1.0  174.680000  175.424000  174.500000  175.010000   \n",
       "...                ...         ...         ...         ...         ...   \n",
       "2012-01-09         1.0   54.682693   54.971837   54.149348   54.198183   \n",
       "2012-01-06         1.0   53.946296   54.329267   53.875613   54.284287   \n",
       "2012-01-05         1.0   53.326858   53.789509   53.033847   53.722681   \n",
       "2012-01-04         1.0   52.690714   53.292160   52.598184   53.132802   \n",
       "2012-01-03         1.0   52.613606   53.011999   52.562200   52.848787   \n",
       "\n",
       "             AdjVolume  \n",
       "Date                    \n",
       "2017-12-29  25643711.0  \n",
       "2017-12-28  15997739.0  \n",
       "2017-12-27  21672062.0  \n",
       "2017-12-26  32968167.0  \n",
       "2017-12-22  16052615.0  \n",
       "...                ...  \n",
       "2012-01-09  98506100.0  \n",
       "2012-01-06  79573200.0  \n",
       "2012-01-05  67817400.0  \n",
       "2012-01-04  65005500.0  \n",
       "2012-01-03  75555200.0  \n",
       "\n",
       "[1507 rows x 12 columns]"
      ]
     },
     "execution_count": 19,
     "metadata": {},
     "output_type": "execute_result"
    }
   ],
   "source": [
    "%env QUANDL_API_KEY=dpC9ceaCW6qw9RwVzASC\n",
    "df = web.DataReader('AAPL.US', 'quandl', '2012-01-01', '2017-12-31')\n",
    "# df.loc['2019-12-01']\n",
    "df"
   ]
  },
  {
   "cell_type": "code",
   "execution_count": 20,
   "metadata": {},
   "outputs": [
    {
     "data": {
      "text/plain": [
       "(1507, 12)"
      ]
     },
     "execution_count": 20,
     "metadata": {},
     "output_type": "execute_result"
    }
   ],
   "source": [
    "# Get the number of rows and columns in the data set\n",
    "df.shape"
   ]
  },
  {
   "cell_type": "code",
   "execution_count": 24,
   "metadata": {},
   "outputs": [
    {
     "data": {
      "image/png": "[encoded data removed]",
      "text/plain": [
       "<Figure size 1152x576 with 1 Axes>"
      ]
     },
     "metadata": {},
     "output_type": "display_data"
    }
   ],
   "source": [
    "# Visualize the closing price history\n",
    "plt.figure(figsize=(16,8))\n",
    "plt.title('Close Price History')\n",
    "plt.plot(df['AdjClose'])\n",
    "plt.xlabel('Date', fontsize=18)\n",
    "plt.ylabel('Close Price USD ($)', fontsize=18)\n",
    "plt.show()"
   ]
  },
  {
   "cell_type": "code",
   "execution_count": 39,
   "metadata": {},
   "outputs": [
    {
     "data": {
      "text/plain": [
       "1206"
      ]
     },
     "execution_count": 39,
     "metadata": {},
     "output_type": "execute_result"
    }
   ],
   "source": [
    "df = df.reindex(index=df.index[::-1])\n",
    "\n",
    "# Create a new dataframe with only the Close column\n",
    "data = df.filter(['AdjClose'])\n",
    "\n",
    "# Convert the dataframe to a numpy array\n",
    "dataset = data.values\n",
    "\n",
    "# Get the number of rows to train the model on\n",
    "training_data_len = math.ceil(len(dataset) * .8)\n",
    "\n",
    "training_data_len"
   ]
  },
  {
   "cell_type": "code",
   "execution_count": 40,
   "metadata": {},
   "outputs": [
    {
     "data": {
      "text/plain": [
       "array([[0.01529977],\n",
       "       [0.017563  ],\n",
       "       [0.02226356],\n",
       "       ...,\n",
       "       [0.95362225],\n",
       "       [0.95744722],\n",
       "       [0.94270515]])"
      ]
     },
     "execution_count": 40,
     "metadata": {},
     "output_type": "execute_result"
    }
   ],
   "source": [
    "# Scale the data\n",
    "scaler = MinMaxScaler(feature_range=(0, 1))\n",
    "scaled_data = scaler.fit_transform(dataset)\n",
    "scaled_data"
   ]
  },
  {
   "cell_type": "code",
   "execution_count": 41,
   "metadata": {},
   "outputs": [
    {
     "name": "stdout",
     "output_type": "stream",
     "text": [
      "[array([0.01529977, 0.017563  , 0.02226356, 0.02673883, 0.02605269,\n",
      "       0.02759906, 0.02689244, 0.0257045 , 0.02408644, 0.02909423,\n",
      "       0.03361045, 0.03221769, 0.02458824, 0.03186848, 0.02470089,\n",
      "       0.05158318, 0.04950429, 0.05221812, 0.05808614, 0.06163972,\n",
      "       0.06134273, 0.06024696, 0.0649168 , 0.06931013, 0.0742872 ,\n",
      "       0.08232628, 0.09921348, 0.0994695 , 0.10887062, 0.11589586,\n",
      "       0.10382187, 0.10847123, 0.10837906, 0.12141569, 0.11956209,\n",
      "       0.12299279, 0.12915779, 0.13258848, 0.14247093, 0.14967026,\n",
      "       0.15174916, 0.15247626, 0.14016673, 0.13719688, 0.13763723,\n",
      "       0.14920942, 0.15246602, 0.15946053, 0.17594834, 0.19794573,\n",
      "       0.1938289 , 0.19383914, 0.20974322, 0.21472028, 0.21117694,\n",
      "       0.20794082, 0.20457158, 0.21576485, 0.2234455 , 0.22666114])]\n",
      "[0.21871422118009076]\n",
      "\n",
      "[array([0.01529977, 0.017563  , 0.02226356, 0.02673883, 0.02605269,\n",
      "       0.02759906, 0.02689244, 0.0257045 , 0.02408644, 0.02909423,\n",
      "       0.03361045, 0.03221769, 0.02458824, 0.03186848, 0.02470089,\n",
      "       0.05158318, 0.04950429, 0.05221812, 0.05808614, 0.06163972,\n",
      "       0.06134273, 0.06024696, 0.0649168 , 0.06931013, 0.0742872 ,\n",
      "       0.08232628, 0.09921348, 0.0994695 , 0.10887062, 0.11589586,\n",
      "       0.10382187, 0.10847123, 0.10837906, 0.12141569, 0.11956209,\n",
      "       0.12299279, 0.12915779, 0.13258848, 0.14247093, 0.14967026,\n",
      "       0.15174916, 0.15247626, 0.14016673, 0.13719688, 0.13763723,\n",
      "       0.14920942, 0.15246602, 0.15946053, 0.17594834, 0.19794573,\n",
      "       0.1938289 , 0.19383914, 0.20974322, 0.21472028, 0.21117694,\n",
      "       0.20794082, 0.20457158, 0.21576485, 0.2234455 , 0.22666114]), array([0.017563  , 0.02226356, 0.02673883, 0.02605269, 0.02759906,\n",
      "       0.02689244, 0.0257045 , 0.02408644, 0.02909423, 0.03361045,\n",
      "       0.03221769, 0.02458824, 0.03186848, 0.02470089, 0.05158318,\n",
      "       0.04950429, 0.05221812, 0.05808614, 0.06163972, 0.06134273,\n",
      "       0.06024696, 0.0649168 , 0.06931013, 0.0742872 , 0.08232628,\n",
      "       0.09921348, 0.0994695 , 0.10887062, 0.11589586, 0.10382187,\n",
      "       0.10847123, 0.10837906, 0.12141569, 0.11956209, 0.12299279,\n",
      "       0.12915779, 0.13258848, 0.14247093, 0.14967026, 0.15174916,\n",
      "       0.15247626, 0.14016673, 0.13719688, 0.13763723, 0.14920942,\n",
      "       0.15246602, 0.15946053, 0.17594834, 0.19794573, 0.1938289 ,\n",
      "       0.19383914, 0.20974322, 0.21472028, 0.21117694, 0.20794082,\n",
      "       0.20457158, 0.21576485, 0.2234455 , 0.22666114, 0.21871422])]\n",
      "[0.21871422118009076, 0.20815588165985766]\n",
      "\n"
     ]
    }
   ],
   "source": [
    "# Create the training data set\n",
    "# Create the scaled training data set\n",
    "train_data = scaled_data[0:training_data_len, :]\n",
    "# Split the data into x_train and y_train data sets\n",
    "x_train = []\n",
    "y_train = []\n",
    "\n",
    "for i in range(60, len(train_data)):\n",
    "    x_train.append(train_data[i-60:i, 0])\n",
    "    y_train.append(train_data[i, 0])\n",
    "    if i <= 61:\n",
    "        print(x_train)\n",
    "        print(y_train)\n",
    "        print()"
   ]
  },
  {
   "cell_type": "code",
   "execution_count": 45,
   "metadata": {},
   "outputs": [
    {
     "data": {
      "text/plain": [
       "(1146, 60, 1)"
      ]
     },
     "execution_count": 45,
     "metadata": {},
     "output_type": "execute_result"
    }
   ],
   "source": [
    "# Convert the x_train and y_train to numpy arrays\n",
    "x_train, y_train = np.array(x_train), np.array(y_train)\n",
    "\n",
    "# Reshape the data\n",
    "x_train = np.reshape(x_train, (x_train.shape[0], x_train.shape[1], 1))\n",
    "x_train.shape"
   ]
  },
  {
   "cell_type": "code",
   "execution_count": 47,
   "metadata": {},
   "outputs": [],
   "source": [
    "# Build the LSTM model\n",
    "model = Sequential()\n",
    "model.add(LSTM(50, return_sequences=True, input_shape=(x_train.shape[1], 1)))\n",
    "model.add(LSTM(50, return_sequences=False))\n",
    "model.add(Dense(25))\n",
    "model.add(Dense(1))"
   ]
  },
  {
   "cell_type": "code",
   "execution_count": 48,
   "metadata": {},
   "outputs": [],
   "source": [
    "# Compile the model\n",
    "model.compile(optimizer='adam', loss='mean_squared_error')"
   ]
  },
  {
   "cell_type": "code",
   "execution_count": 49,
   "metadata": {},
   "outputs": [
    {
     "name": "stdout",
     "output_type": "stream",
     "text": [
      "1146/1146 [==============================] - 59s 45ms/step - loss: 0.0017\n"
     ]
    },
    {
     "data": {
      "text/plain": [
       "<keras.callbacks.History at 0x12d080af0>"
      ]
     },
     "execution_count": 49,
     "metadata": {},
     "output_type": "execute_result"
    }
   ],
   "source": [
    "# Train the model\n",
    "model.fit(x_train, y_train, batch_size=1, epochs=1)"
   ]
  },
  {
   "cell_type": "code",
   "execution_count": 56,
   "metadata": {},
   "outputs": [
    {
     "data": {
      "text/plain": [
       "(301, 1)"
      ]
     },
     "execution_count": 56,
     "metadata": {},
     "output_type": "execute_result"
    }
   ],
   "source": [
    "# Create the testing data set\n",
    "# Create a new array containing scaled values from index 1147 to 1507\n",
    "test_data = scaled_data[training_data_len-60:, :]\n",
    "# Create the data sets x_test and y_test\n",
    "x_test = []\n",
    "y_test = dataset[training_data_len:, :]\n",
    "for i in range(60, len(test_data)):\n",
    "    x_test.append(test_data[i-60:i, 0])"
   ]
  },
  {
   "cell_type": "code",
   "execution_count": 61,
   "metadata": {},
   "outputs": [
    {
     "data": {
      "text/plain": [
       "(301, 60, 1)"
      ]
     },
     "execution_count": 61,
     "metadata": {},
     "output_type": "execute_result"
    }
   ],
   "source": [
    "#Convert the data to a numpy array\n",
    "x_test = np.array(x_test)\n",
    "# Reshape the data\n",
    "x_test = np.reshape(x_test, (x_test.shape[0], x_test.shape[1], 1))\n",
    "x_test.shape"
   ]
  },
  {
   "cell_type": "code",
   "execution_count": 63,
   "metadata": {},
   "outputs": [
    {
     "name": "stdout",
     "output_type": "stream",
     "text": [
      "10/10 [==============================] - 0s 28ms/step\n"
     ]
    }
   ],
   "source": [
    "# Get the models predicted price values\n",
    "predictions = model.predict(x_test)\n",
    "predictions = scaler.inverse_transform(predictions)"
   ]
  },
  {
   "cell_type": "code",
   "execution_count": 66,
   "metadata": {},
   "outputs": [
    {
     "data": {
      "text/plain": [
       "7.5282111681944714"
      ]
     },
     "execution_count": 66,
     "metadata": {},
     "output_type": "execute_result"
    }
   ],
   "source": [
    "# Get the root mean squared error (RMSE)\n",
    "rmse = np.sqrt( np.mean( ((predictions-y_test)**2) ) )\n",
    "rmse"
   ]
  },
  {
   "cell_type": "code",
   "execution_count": 67,
   "metadata": {},
   "outputs": [
    {
     "name": "stderr",
     "output_type": "stream",
     "text": [
      "<ipython-input-67-78cbc4cbbdfe>:4: SettingWithCopyWarning: \n",
      "A value is trying to be set on a copy of a slice from a DataFrame.\n",
      "Try using .loc[row_indexer,col_indexer] = value instead\n",
      "\n",
      "See the caveats in the documentation: https://pandas.pydata.org/pandas-docs/stable/user_guide/indexing.html#returning-a-view-versus-a-copy\n",
      "  valid['Predictions'] = predictions\n"
     ]
    },
    {
     "data": {
      "image/png": "[encoded data removed]",
      "text/plain": [
       "<Figure size 1152x576 with 1 Axes>"
      ]
     },
     "metadata": {},
     "output_type": "display_data"
    }
   ],
   "source": [
    "#Plot the data\n",
    "train = data[:training_data_len]\n",
    "valid = data[training_data_len:]\n",
    "valid['Predictions'] = predictions\n",
    "\n",
    "#Visualize the data\n",
    "plt.figure(figsize=(16, 8))\n",
    "plt.title('Model')\n",
    "plt.xlabel('Date', fontsize=18)\n",
    "plt.ylabel('Close Price USD($)', fontsize=18)\n",
    "plt.plot(train['AdjClose'])\n",
    "plt.plot(valid[['AdjClose', 'Predictions']])\n",
    "plt.legend(['Train', 'Valid', 'Predictions'], loc='lower right')\n",
    "plt.show()"
   ]
  },
  {
   "cell_type": "code",
   "execution_count": 68,
   "metadata": {},
   "outputs": [
    {
     "data": {
      "text/html": [
       "<div>\n",
       "<style scoped>\n",
       "    .dataframe tbody tr th:only-of-type {\n",
       "        vertical-align: middle;\n",
       "    }\n",
       "\n",
       "    .dataframe tbody tr th {\n",
       "        vertical-align: top;\n",
       "    }\n",
       "\n",
       "    .dataframe thead th {\n",
       "        text-align: right;\n",
       "    }\n",
       "</style>\n",
       "<table border=\"1\" class=\"dataframe\">\n",
       "  <thead>\n",
       "    <tr style=\"text-align: right;\">\n",
       "      <th></th>\n",
       "      <th>AdjClose</th>\n",
       "      <th>Predictions</th>\n",
       "    </tr>\n",
       "    <tr>\n",
       "      <th>Date</th>\n",
       "      <th></th>\n",
       "      <th></th>\n",
       "    </tr>\n",
       "  </thead>\n",
       "  <tbody>\n",
       "    <tr>\n",
       "      <th>2016-10-18</th>\n",
       "      <td>115.420062</td>\n",
       "      <td>111.917641</td>\n",
       "    </tr>\n",
       "    <tr>\n",
       "      <th>2016-10-19</th>\n",
       "      <td>115.076170</td>\n",
       "      <td>112.296150</td>\n",
       "    </tr>\n",
       "    <tr>\n",
       "      <th>2016-10-20</th>\n",
       "      <td>115.017217</td>\n",
       "      <td>112.568642</td>\n",
       "    </tr>\n",
       "    <tr>\n",
       "      <th>2016-10-21</th>\n",
       "      <td>114.565244</td>\n",
       "      <td>112.749519</td>\n",
       "    </tr>\n",
       "    <tr>\n",
       "      <th>2016-10-24</th>\n",
       "      <td>115.596921</td>\n",
       "      <td>112.821655</td>\n",
       "    </tr>\n",
       "    <tr>\n",
       "      <th>...</th>\n",
       "      <td>...</td>\n",
       "      <td>...</td>\n",
       "    </tr>\n",
       "    <tr>\n",
       "      <th>2017-12-22</th>\n",
       "      <td>175.010000</td>\n",
       "      <td>163.326248</td>\n",
       "    </tr>\n",
       "    <tr>\n",
       "      <th>2017-12-26</th>\n",
       "      <td>170.570000</td>\n",
       "      <td>163.647964</td>\n",
       "    </tr>\n",
       "    <tr>\n",
       "      <th>2017-12-27</th>\n",
       "      <td>170.600000</td>\n",
       "      <td>163.526901</td>\n",
       "    </tr>\n",
       "    <tr>\n",
       "      <th>2017-12-28</th>\n",
       "      <td>171.080000</td>\n",
       "      <td>163.188080</td>\n",
       "    </tr>\n",
       "    <tr>\n",
       "      <th>2017-12-29</th>\n",
       "      <td>169.230000</td>\n",
       "      <td>162.792404</td>\n",
       "    </tr>\n",
       "  </tbody>\n",
       "</table>\n",
       "<p>301 rows × 2 columns</p>\n",
       "</div>"
      ],
      "text/plain": [
       "              AdjClose  Predictions\n",
       "Date                               \n",
       "2016-10-18  115.420062   111.917641\n",
       "2016-10-19  115.076170   112.296150\n",
       "2016-10-20  115.017217   112.568642\n",
       "2016-10-21  114.565244   112.749519\n",
       "2016-10-24  115.596921   112.821655\n",
       "...                ...          ...\n",
       "2017-12-22  175.010000   163.326248\n",
       "2017-12-26  170.570000   163.647964\n",
       "2017-12-27  170.600000   163.526901\n",
       "2017-12-28  171.080000   163.188080\n",
       "2017-12-29  169.230000   162.792404\n",
       "\n",
       "[301 rows x 2 columns]"
      ]
     },
     "execution_count": 68,
     "metadata": {},
     "output_type": "execute_result"
    }
   ],
   "source": [
    "# Show the valid and predicted prices\n",
    "valid"
   ]
  },
  {
   "cell_type": "code",
   "execution_count": 73,
   "metadata": {},
   "outputs": [
    {
     "name": "stdout",
     "output_type": "stream",
     "text": [
      "1/1 [==============================] - 0s 43ms/step\n",
      "[[162.24127]]\n"
     ]
    }
   ],
   "source": [
    "# Get the quote\n",
    "apple_quote = web.DataReader('AAPL.US', 'quandl', '2012-01-01', '2017-12-31')\n",
    "\n",
    "# Create a new dataframe\n",
    "new_df = apple_quote.filter(['AdjClose']).reindex(index=apple_quote.index[::-1])\n",
    "\n",
    "#Get the last 60 day closing values and convert the dataframe to an array\n",
    "last_60_days = new_df[-60:].values\n",
    "\n",
    "#Scale the data to be values between 0 and 1\n",
    "last_60_days_scaled = scaler.transform(last_60_days)\n",
    "\n",
    "#Create an empty list\n",
    "X_test = []\n",
    "\n",
    "# Append the past 60 days\n",
    "X_test.append(last_60_days_scaled)\n",
    "\n",
    "# Convert the X_test data set to a numpy array\n",
    "X_test = np.array(X_test)\n",
    "\n",
    "# Reshape the data\n",
    "X_test = np.reshape(X_test, (X_test.shape[0], X_test.shape[1], 1))\n",
    "\n",
    "# Get the predicted scaled price\n",
    "pred_price = model.predict(X_test)\n",
    "#undo the scaling\n",
    "pred_price = scaler.inverse_transform(pred_price)\n",
    "print(pred_price)"
   ]
  },
  {
   "cell_type": "code",
   "execution_count": 74,
   "metadata": {},
   "outputs": [
    {
     "name": "stdout",
     "output_type": "stream",
     "text": [
      "Date\n",
      "2017-12-18    176.42\n",
      "Name: AdjClose, dtype: float64\n"
     ]
    }
   ],
   "source": [
    "# Get the quote\n",
    "apple_quote2 = web.DataReader('AAPL.US', 'quandl', '2017-12-18', '2017-12-18')\n",
    "print(apple_quote2['AdjClose'])"
   ]
  }
 ],
 "metadata": {
  "kernelspec": {
   "display_name": "Python 3.8.2 64-bit",
   "language": "python",
   "name": "python3"
  },
  "language_info": {
   "codemirror_mode": {
    "name": "ipython",
    "version": 3
   },
   "file_extension": ".py",
   "mimetype": "text/x-python",
   "name": "python",
   "nbconvert_exporter": "python",
   "pygments_lexer": "ipython3",
   "version": "3.8.2"
  },
  "orig_nbformat": 4,
  "vscode": {
   "interpreter": {
    "hash": "31f2aee4e71d21fbe5cf8b01ff0e069b9275f58929596ceb00d14d90e3e16cd6"
   }
  }
 },
 "nbformat": 4,
 "nbformat_minor": 2
}
